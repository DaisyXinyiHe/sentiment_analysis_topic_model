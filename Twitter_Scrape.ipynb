{
  "nbformat": 4,
  "nbformat_minor": 0,
  "metadata": {
    "colab": {
      "name": "Twitter_Scrape.ipynb",
      "provenance": [],
      "collapsed_sections": []
    },
    "kernelspec": {
      "name": "python3",
      "display_name": "Python 3"
    },
    "language_info": {
      "name": "python"
    },
    "accelerator": "GPU"
  },
  "cells": [
    {
      "cell_type": "code",
      "metadata": {
        "id": "xvfzD6NO5kNh",
        "colab": {
          "base_uri": "https://localhost:8080/"
        },
        "outputId": "9f7a60ef-752e-4a84-fbcc-db4629a11f1c"
      },
      "source": [
        "## Mount drive from google drive if needed\n",
        "from google.colab import drive\n",
        "drive.mount('/content/drive')\n"
      ],
      "execution_count": null,
      "outputs": [
        {
          "output_type": "stream",
          "name": "stdout",
          "text": [
            "Mounted at /content/drive\n"
          ]
        }
      ]
    },
    {
      "cell_type": "code",
      "metadata": {
        "colab": {
          "base_uri": "https://localhost:8080/",
          "height": 53
        },
        "id": "xaW3Qr4zoXgD",
        "outputId": "7d06641a-7e4f-4fd0-b21a-bd35c26de597"
      },
      "source": [
        "import os\n",
        "## CD to work directory\n",
        "# work_dir = input('Please enter work directory: ')\n",
        "# os.chdir(work_dir)\n",
        "%cd /content/drive/MyDrive/Colab Notebooks/tweet_scrape/Twitter_Tweepy_Scrape\n",
        "## Check current project directory\n",
        "% pwd"
      ],
      "execution_count": null,
      "outputs": [
        {
          "output_type": "stream",
          "name": "stdout",
          "text": [
            "/content/drive/MyDrive/Colab Notebooks/tweet_scrape/Twitter_Tweepy_Scrape\n"
          ]
        },
        {
          "output_type": "execute_result",
          "data": {
            "application/vnd.google.colaboratory.intrinsic+json": {
              "type": "string"
            },
            "text/plain": [
              "'/content/drive/MyDrive/Colab Notebooks/tweet_scrape/Twitter_Tweepy_Scrape'"
            ]
          },
          "metadata": {},
          "execution_count": 2
        }
      ]
    },
    {
      "cell_type": "code",
      "metadata": {
        "colab": {
          "base_uri": "https://localhost:8080/"
        },
        "id": "Na1Hl8aC7enL",
        "outputId": "1be1fc5c-c80b-48fe-d948-1aa86c8cb072"
      },
      "source": [
        "## Install tweepy if needed\n",
        "% pip install tweepy"
      ],
      "execution_count": null,
      "outputs": [
        {
          "output_type": "stream",
          "name": "stdout",
          "text": [
            "Requirement already satisfied: tweepy in /usr/local/lib/python3.7/dist-packages (3.10.0)\n",
            "Requirement already satisfied: six>=1.10.0 in /usr/local/lib/python3.7/dist-packages (from tweepy) (1.15.0)\n",
            "Requirement already satisfied: requests-oauthlib>=0.7.0 in /usr/local/lib/python3.7/dist-packages (from tweepy) (1.3.0)\n",
            "Requirement already satisfied: requests[socks]>=2.11.1 in /usr/local/lib/python3.7/dist-packages (from tweepy) (2.23.0)\n",
            "Requirement already satisfied: oauthlib>=3.0.0 in /usr/local/lib/python3.7/dist-packages (from requests-oauthlib>=0.7.0->tweepy) (3.1.1)\n",
            "Requirement already satisfied: idna<3,>=2.5 in /usr/local/lib/python3.7/dist-packages (from requests[socks]>=2.11.1->tweepy) (2.10)\n",
            "Requirement already satisfied: urllib3!=1.25.0,!=1.25.1,<1.26,>=1.21.1 in /usr/local/lib/python3.7/dist-packages (from requests[socks]>=2.11.1->tweepy) (1.24.3)\n",
            "Requirement already satisfied: chardet<4,>=3.0.2 in /usr/local/lib/python3.7/dist-packages (from requests[socks]>=2.11.1->tweepy) (3.0.4)\n",
            "Requirement already satisfied: certifi>=2017.4.17 in /usr/local/lib/python3.7/dist-packages (from requests[socks]>=2.11.1->tweepy) (2021.10.8)\n",
            "Requirement already satisfied: PySocks!=1.5.7,>=1.5.6 in /usr/local/lib/python3.7/dist-packages (from requests[socks]>=2.11.1->tweepy) (1.7.1)\n"
          ]
        }
      ]
    },
    {
      "cell_type": "markdown",
      "metadata": {
        "id": "bQaaTnXtNKnz"
      },
      "source": [
        "# Pre-Requirement"
      ]
    },
    {
      "cell_type": "markdown",
      "metadata": {
        "id": "63UlgaS_L_CM"
      },
      "source": [
        "Before starting to use the following script, make sure:\n",
        "* Have a twitter developer account\n",
        "* Start a project (aka App) on twitter developer portal\n",
        "* Make sure the project has App permissions = 'Read and Write' in Settings\n",
        "* Tweepy package installed\n",
        "* Make sure that you are in the project directory in which you would like to load your login information and save your data. \n",
        "\n",
        "The following information could be generated in the 'Keys and Tokens' tabs in your project page in the Developer Portal. For good practice, please save the following keys and tokens in an text file. Save your keys and tokens in a secure place. \n",
        "\n",
        "For this project, we need:\n",
        "* Consumer Keys: API Keys and Secret Keys\n",
        "* Authentication Tokens: Access Token and Secret"
      ]
    },
    {
      "cell_type": "code",
      "metadata": {
        "id": "0VKt0Pse7ovV"
      },
      "source": [
        "## Import Library\n",
        "import tweepy\n",
        "import webbrowser\n",
        "import time\n",
        "import pandas as pd"
      ],
      "execution_count": null,
      "outputs": []
    },
    {
      "cell_type": "code",
      "metadata": {
        "id": "mVj3zM3CNqN-"
      },
      "source": [
        "## Load API information from text file \n",
        "## Information will be loaded into a dictionary named log\n",
        "log = {}\n",
        "log_file = open(\"API.txt\")\n",
        "for line in log_file:\n",
        "    key, value = line.split() # Split line into a tuple\n",
        "    log[key] = value #Add tuple values to dictionary\n"
      ],
      "execution_count": null,
      "outputs": []
    },
    {
      "cell_type": "code",
      "metadata": {
        "id": "CIEMH-nBA0-8"
      },
      "source": [
        "## Set call back url\n",
        "callback_url = 'oob'\n",
        "## Note: OOB is an alternative to the traditional 3-step process of an OAuth flow (known as 3-Legged-OAuth). \n",
        "## The user is not redirected after granting access to a consumer, instead, a code is shown to the user which \n",
        "## he needs to manually input in the Consumer App. "
      ],
      "execution_count": null,
      "outputs": []
    },
    {
      "cell_type": "code",
      "metadata": {
        "id": "2SmMow-g8CuK"
      },
      "source": [
        "## Set API and connect with Twitter\n",
        "consumer_key = log['consumer_key']\n",
        "consumer_secret = log['consumer_secret']\n",
        "access_token = log['access_token']\n",
        "access_token_secret = log['access_token_secret']\n",
        "auth = tweepy.OAuthHandler(consumer_key, consumer_secret, callback_url)\n",
        "auth.set_access_token(access_token, access_token_secret)\n",
        "api = tweepy.API(auth,wait_on_rate_limit=True)\n",
        "redirect = auth.get_authorization_url() # This command needs to be run with the above in the same cell in order for it to work. "
      ],
      "execution_count": null,
      "outputs": []
    },
    {
      "cell_type": "code",
      "metadata": {
        "id": "FrUhiwCCBETj"
      },
      "source": [
        "## The following could help you save information into a pin, so you don't have to access API over and over again\n",
        "print('Click the link to get the pin.')\n",
        "print(redirect)\n",
        "# webbrowser.open(redirect) ## This command can automatically open the link to get the pin. Comment it out for future use. \n",
        "pin = input('Pin?: ')\n",
        "print(pin) ## Pins are randomly generated by the redirect link\n",
        "print(auth.get_access_token(pin)) ## This shows the access token and access secret token"
      ],
      "execution_count": 1,
      "outputs": []
    },
    {
      "cell_type": "code",
      "metadata": {
        "id": "hqOaXke8B5x4"
      },
      "source": [
        "## Check your twitter ID. Are you using the correct log-in information? \n",
        "# api.me().screen_name"
      ],
      "execution_count": null,
      "outputs": []
    },
    {
      "cell_type": "code",
      "metadata": {
        "id": "rrl4BcaECUoB"
      },
      "source": [
        "# ## Testing: Get Bill Gate's most recent tweet. Get a specific user's twitter\n",
        "# post = api.user_timeline(screen_name = 'BillGates', count = 1, lang = 'en', tweet_mode = 'extended')\n",
        "# for tweet in post:\n",
        "#   print(tweet.full_text)"
      ],
      "execution_count": null,
      "outputs": []
    },
    {
      "cell_type": "code",
      "metadata": {
        "id": "ZkL1iXznpkU4"
      },
      "source": [
        "# print(\"Enter the keywords. After each keyword, hit 'Enter' on your keyboard.\")\n",
        "# print(\"Hit 'Enter' with an empty entry when you finish.\")\n",
        "# # try block to handle the exception\n",
        "\n",
        "# text_query = []\n",
        "  \n",
        "# while True:\n",
        "#     keyword = input('Keyword:')\n",
        "#     if keyword:\n",
        "#       text_query.append(keyword)\n",
        "#     else:\n",
        "#       break\n",
        "         \n",
        "# # if the input is empty, just print the list\n",
        "# print(text_query)\n",
        "text_query = ['joe biden', 'biden', '#joebiden', '#potus','@joebiden']"
      ],
      "execution_count": null,
      "outputs": []
    },
    {
      "cell_type": "code",
      "metadata": {
        "id": "cg6CkVNtL0HM"
      },
      "source": [
        "import datetime\n",
        "start_date = datetime.datetime(2021, 11, 28, 12, 00, 00)\n",
        "end_date = datetime.datetime(2021, 11, 29, 23, 59, 59)\n"
      ],
      "execution_count": null,
      "outputs": []
    },
    {
      "cell_type": "code",
      "metadata": {
        "id": "eDYnIHGdkj0a"
      },
      "source": [
        "tweets = tweepy.Cursor(api.search,\n",
        "                   q=text_query[0],\n",
        "                   lang=\"en\",\n",
        "                  #  since=start_date,\n",
        "                   until=end_date,\n",
        "                   result_type=\"recent\"\n",
        "                   ).items(1)"
      ],
      "execution_count": null,
      "outputs": []
    },
    {
      "cell_type": "code",
      "metadata": {
        "id": "_GADGNqo97Wu"
      },
      "source": [
        "## Scrape tweets by key words in query. Data saved in pandas dataframe format. \n",
        "\n",
        "# text_query = ['downton abbey','#YellowstoneTV', '#lawandordersvu', \n",
        "#               'Harry Potter and the Chamber of Secrets', '#twoandahalfmen', \n",
        "#               '#menonfire2004', '#ChrisleyKnowsBest', '#TheKingofQueens',\n",
        "#               '#EverybodyLovesRaymond', '#Frasier', 'gi joe retaliation', \n",
        "#               '#Psych2LassieComeHome']\n",
        "count = 1000\n",
        "arr = []\n",
        "tweets_tot = pd.DataFrame({0 : [],1 : [],2 : []})\n",
        "for i,word in enumerate(text_query):\n",
        "  try:\n",
        "  # Creation of query method using parameters\n",
        "    tweets = tweepy.Cursor(api.search,q=word, lang = 'en').items(count)\n",
        "    \n",
        "    # Pulling information from tweets iterable object\n",
        "    tweets_list = [[tweet.created_at, tweet.id, tweet.text] for tweet in tweets]\n",
        "    \n",
        "    # Creation of dataframe from tweets list\n",
        "    # Add or remove columns as you remove tweet information\n",
        "    tweets_df = pd.DataFrame(tweets_list)\n",
        "    tweets_df['keyword'] = word\n",
        "    tweets_tot=tweets_tot.append(tweets_df)\n",
        "\n",
        "\n",
        "\n",
        "  \n",
        "  except BaseException as e:\n",
        "      print('failed on_status,',str(e))\n",
        "      time.sleep(3)"
      ],
      "execution_count": null,
      "outputs": []
    },
    {
      "cell_type": "code",
      "metadata": {
        "id": "DnPIxwj_K07A",
        "colab": {
          "base_uri": "https://localhost:8080/",
          "height": 912
        },
        "outputId": "9275b9ed-beeb-4489-aecf-89a8c338bd07"
      },
      "source": [
        "tweets_tot = tweets_tot.rename(columns={0: 'datetime', 1: 'id', 2:'tweet'})\n",
        "tweets_tot"
      ],
      "execution_count": null,
      "outputs": [
        {
          "output_type": "execute_result",
          "data": {
            "text/html": [
              "<div>\n",
              "<style scoped>\n",
              "    .dataframe tbody tr th:only-of-type {\n",
              "        vertical-align: middle;\n",
              "    }\n",
              "\n",
              "    .dataframe tbody tr th {\n",
              "        vertical-align: top;\n",
              "    }\n",
              "\n",
              "    .dataframe thead th {\n",
              "        text-align: right;\n",
              "    }\n",
              "</style>\n",
              "<table border=\"1\" class=\"dataframe\">\n",
              "  <thead>\n",
              "    <tr style=\"text-align: right;\">\n",
              "      <th></th>\n",
              "      <th>datetime</th>\n",
              "      <th>id</th>\n",
              "      <th>tweet</th>\n",
              "      <th>keyword</th>\n",
              "    </tr>\n",
              "  </thead>\n",
              "  <tbody>\n",
              "    <tr>\n",
              "      <th>0</th>\n",
              "      <td>2021-12-08 15:49:39</td>\n",
              "      <td>1.468609e+18</td>\n",
              "      <td>@JuuustinBrown Great, more things for Fox News...</td>\n",
              "      <td>joe biden</td>\n",
              "    </tr>\n",
              "    <tr>\n",
              "      <th>1</th>\n",
              "      <td>2021-12-08 15:49:39</td>\n",
              "      <td>1.468609e+18</td>\n",
              "      <td>RT @MirMAKOfficial: We Have Guts Now.....\\n\\nP...</td>\n",
              "      <td>joe biden</td>\n",
              "    </tr>\n",
              "    <tr>\n",
              "      <th>2</th>\n",
              "      <td>2021-12-08 15:49:39</td>\n",
              "      <td>1.468609e+18</td>\n",
              "      <td>@SafetyPinDaily If Republicans get control of ...</td>\n",
              "      <td>joe biden</td>\n",
              "    </tr>\n",
              "    <tr>\n",
              "      <th>3</th>\n",
              "      <td>2021-12-08 15:49:36</td>\n",
              "      <td>1.468609e+18</td>\n",
              "      <td>Mic Problems Leave Biden Bumbling In High Stak...</td>\n",
              "      <td>joe biden</td>\n",
              "    </tr>\n",
              "    <tr>\n",
              "      <th>4</th>\n",
              "      <td>2021-12-08 15:49:34</td>\n",
              "      <td>1.468609e+18</td>\n",
              "      <td>RT @dijoni: So Joe Biden justice department de...</td>\n",
              "      <td>joe biden</td>\n",
              "    </tr>\n",
              "    <tr>\n",
              "      <th>...</th>\n",
              "      <td>...</td>\n",
              "      <td>...</td>\n",
              "      <td>...</td>\n",
              "      <td>...</td>\n",
              "    </tr>\n",
              "    <tr>\n",
              "      <th>995</th>\n",
              "      <td>2021-12-08 15:18:59</td>\n",
              "      <td>1.468601e+18</td>\n",
              "      <td>RT @MsBukenya: @JoeBiden @ABlinken the US need...</td>\n",
              "      <td>@joebiden</td>\n",
              "    </tr>\n",
              "    <tr>\n",
              "      <th>996</th>\n",
              "      <td>2021-12-08 15:18:59</td>\n",
              "      <td>1.468601e+18</td>\n",
              "      <td>@KremlinRussia_E @JoeBiden Mr President you sp...</td>\n",
              "      <td>@joebiden</td>\n",
              "    </tr>\n",
              "    <tr>\n",
              "      <th>997</th>\n",
              "      <td>2021-12-08 15:18:55</td>\n",
              "      <td>1.468601e+18</td>\n",
              "      <td>RT @T_S_P_O_O_K_Y: Putin has made his decision...</td>\n",
              "      <td>@joebiden</td>\n",
              "    </tr>\n",
              "    <tr>\n",
              "      <th>998</th>\n",
              "      <td>2021-12-08 15:18:53</td>\n",
              "      <td>1.468601e+18</td>\n",
              "      <td>@JoeBiden can fire Merrick Garland and install...</td>\n",
              "      <td>@joebiden</td>\n",
              "    </tr>\n",
              "    <tr>\n",
              "      <th>999</th>\n",
              "      <td>2021-12-08 15:18:47</td>\n",
              "      <td>1.468601e+18</td>\n",
              "      <td>RT @JoeBiden: Since I was sworn in on January ...</td>\n",
              "      <td>@joebiden</td>\n",
              "    </tr>\n",
              "  </tbody>\n",
              "</table>\n",
              "<p>5000 rows × 4 columns</p>\n",
              "</div>"
            ],
            "text/plain": [
              "               datetime  ...    keyword\n",
              "0   2021-12-08 15:49:39  ...  joe biden\n",
              "1   2021-12-08 15:49:39  ...  joe biden\n",
              "2   2021-12-08 15:49:39  ...  joe biden\n",
              "3   2021-12-08 15:49:36  ...  joe biden\n",
              "4   2021-12-08 15:49:34  ...  joe biden\n",
              "..                  ...  ...        ...\n",
              "995 2021-12-08 15:18:59  ...  @joebiden\n",
              "996 2021-12-08 15:18:59  ...  @joebiden\n",
              "997 2021-12-08 15:18:55  ...  @joebiden\n",
              "998 2021-12-08 15:18:53  ...  @joebiden\n",
              "999 2021-12-08 15:18:47  ...  @joebiden\n",
              "\n",
              "[5000 rows x 4 columns]"
            ]
          },
          "metadata": {},
          "execution_count": 13
        }
      ]
    },
    {
      "cell_type": "code",
      "metadata": {
        "id": "GoUMcPGlEhh1"
      },
      "source": [
        "# filename = input('Save File Name: ')\n",
        "# filename = filename+'.csv'\n",
        "filename = 'tweets_biden.csv'"
      ],
      "execution_count": null,
      "outputs": []
    },
    {
      "cell_type": "code",
      "metadata": {
        "id": "ZpP5SuZ5EwU_",
        "colab": {
          "base_uri": "https://localhost:8080/",
          "height": 316
        },
        "outputId": "ad17a4ff-da75-464c-8239-e40251d4a974"
      },
      "source": [
        "filename"
      ],
      "execution_count": null,
      "outputs": [
        {
          "output_type": "execute_result",
          "data": {
            "application/vnd.google.colaboratory.intrinsic+json": {
              "type": "string"
            },
            "text/plain": [
              "'tweets_biden.csv'"
            ]
          },
          "metadata": {},
          "execution_count": 15
        }
      ]
    },
    {
      "cell_type": "code",
      "metadata": {
        "id": "rTn6WXYmC5qC"
      },
      "source": [
        "import os\n",
        "if os.path.exists(filename):\n",
        "  oldtweets = pd.read_csv(filename)\n",
        "  oldtweets = pd.concat([oldtweets, tweets_tot])\n",
        "else:\n",
        "  tweets_tot.to_csv(filename, index = False)"
      ],
      "execution_count": null,
      "outputs": []
    },
    {
      "cell_type": "code",
      "metadata": {
        "id": "UqD2E0WQuhzl"
      },
      "source": [
        ""
      ],
      "execution_count": null,
      "outputs": []
    },
    {
      "cell_type": "markdown",
      "metadata": {
        "id": "lirTkyxPMSR-"
      },
      "source": [
        ""
      ]
    },
    {
      "cell_type": "code",
      "metadata": {
        "id": "3KtxmDk1MVtp"
      },
      "source": [
        "# !pip3 install -qq twint\n",
        "# %pip install nest_asyncio"
      ],
      "execution_count": null,
      "outputs": []
    },
    {
      "cell_type": "code",
      "metadata": {
        "id": "pP_1EHS8MSiY"
      },
      "source": [
        "# import nest_asyncio\n",
        "# nest_asyncio.apply()\n",
        "# import twint\n",
        "# #configure\n",
        "# c = twint.Config()\n",
        "# c.Store_object = True\n",
        "# c.Pandas =True\n",
        "# c.Search = 'joe biden', 'biden', '#joebiden', '#potus','@joebiden'\n",
        "# c.Limit = 10\n",
        "# c.Lang = 'en'"
      ],
      "execution_count": null,
      "outputs": []
    },
    {
      "cell_type": "code",
      "metadata": {
        "id": "KHskHPNlMei-"
      },
      "source": [
        "# # Run search\n",
        "# twint.run.Search(c)"
      ],
      "execution_count": null,
      "outputs": []
    },
    {
      "cell_type": "code",
      "metadata": {
        "id": "_BctUParWZ-G"
      },
      "source": [
        "# twint.storage.panda.Tweets_df"
      ],
      "execution_count": null,
      "outputs": []
    },
    {
      "cell_type": "code",
      "metadata": {
        "id": "fylABv7yqSnR"
      },
      "source": [
        ""
      ],
      "execution_count": null,
      "outputs": []
    }
  ]
}