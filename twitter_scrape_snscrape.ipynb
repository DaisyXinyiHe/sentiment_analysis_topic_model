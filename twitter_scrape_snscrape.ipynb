{
  "nbformat": 4,
  "nbformat_minor": 0,
  "metadata": {
    "colab": {
      "name": "twitter_scrape_snscrape.ipynb",
      "provenance": [],
      "collapsed_sections": [],
      "include_colab_link": true
    },
    "kernelspec": {
      "name": "python3",
      "display_name": "Python 3"
    },
    "language_info": {
      "name": "python"
    },
    "accelerator": "GPU"
  },
  "cells": [
    {
      "cell_type": "markdown",
      "metadata": {
        "id": "view-in-github",
        "colab_type": "text"
      },
      "source": [
        "<a href=\"https://colab.research.google.com/github/DaisyXinyiHe/sentiment_analysis_topic_model/blob/main/twitter_scrape_snscrape.ipynb\" target=\"_parent\"><img src=\"https://colab.research.google.com/assets/colab-badge.svg\" alt=\"Open In Colab\"/></a>"
      ]
    },
    {
      "cell_type": "code",
      "source": [
        "!pip install snscrape"
      ],
      "metadata": {
        "colab": {
          "base_uri": "https://localhost:8080/"
        },
        "id": "HSNcDM3FOZSb",
        "outputId": "a3f04bb6-97b9-43df-9d77-b4a086f1b319"
      },
      "execution_count": 1,
      "outputs": [
        {
          "output_type": "stream",
          "name": "stdout",
          "text": [
            "Collecting snscrape\n",
            "  Downloading snscrape-0.3.4-py3-none-any.whl (35 kB)\n",
            "Requirement already satisfied: lxml in /usr/local/lib/python3.7/dist-packages (from snscrape) (4.2.6)\n",
            "Requirement already satisfied: requests[socks] in /usr/local/lib/python3.7/dist-packages (from snscrape) (2.23.0)\n",
            "Requirement already satisfied: beautifulsoup4 in /usr/local/lib/python3.7/dist-packages (from snscrape) (4.6.3)\n",
            "Requirement already satisfied: certifi>=2017.4.17 in /usr/local/lib/python3.7/dist-packages (from requests[socks]->snscrape) (2021.10.8)\n",
            "Requirement already satisfied: idna<3,>=2.5 in /usr/local/lib/python3.7/dist-packages (from requests[socks]->snscrape) (2.10)\n",
            "Requirement already satisfied: chardet<4,>=3.0.2 in /usr/local/lib/python3.7/dist-packages (from requests[socks]->snscrape) (3.0.4)\n",
            "Requirement already satisfied: urllib3!=1.25.0,!=1.25.1,<1.26,>=1.21.1 in /usr/local/lib/python3.7/dist-packages (from requests[socks]->snscrape) (1.24.3)\n",
            "Requirement already satisfied: PySocks!=1.5.7,>=1.5.6 in /usr/local/lib/python3.7/dist-packages (from requests[socks]->snscrape) (1.7.1)\n",
            "Installing collected packages: snscrape\n",
            "Successfully installed snscrape-0.3.4\n"
          ]
        }
      ]
    },
    {
      "cell_type": "code",
      "metadata": {
        "id": "0VKt0Pse7ovV"
      },
      "source": [
        "## Import Library\n",
        "import time\n",
        "import pandas as pd\n",
        "import datetime\n",
        "import snscrape.modules.twitter as sntwitter"
      ],
      "execution_count": 4,
      "outputs": []
    },
    {
      "cell_type": "markdown",
      "source": [
        "# Scrape tweets by dates"
      ],
      "metadata": {
        "id": "4AGxtpsIQy3R"
      }
    },
    {
      "cell_type": "code",
      "metadata": {
        "id": "cg6CkVNtL0HM"
      },
      "source": [
        "start_date = datetime.datetime(2022, 1, 12).strftime(\"%Y-%m-%d\")\n",
        "end_date = datetime.datetime(2022, 1, 13).strftime(\"%Y-%m-%d\")\n",
        "\n",
        "keyword = 'joebiden'"
      ],
      "execution_count": 5,
      "outputs": []
    },
    {
      "cell_type": "code",
      "source": [
        "search_scraper = '{} since:{} until:{}'.format(keyword, start_date, end_date)\n",
        "# search_scraper = '{} since:{}'.format(keyword, start_date)\n",
        "search_scraper"
      ],
      "metadata": {
        "colab": {
          "base_uri": "https://localhost:8080/",
          "height": 35
        },
        "id": "dZoQci09Qdt4",
        "outputId": "29f814f4-f4bd-4417-fe01-79e7ad3a338d"
      },
      "execution_count": 6,
      "outputs": [
        {
          "output_type": "execute_result",
          "data": {
            "application/vnd.google.colaboratory.intrinsic+json": {
              "type": "string"
            },
            "text/plain": [
              "'joebiden since:2022-01-12 until:2022-01-13'"
            ]
          },
          "metadata": {},
          "execution_count": 6
        }
      ]
    },
    {
      "cell_type": "code",
      "source": [
        "# Creating list to append tweet data to\n",
        "tweets_list2 = []\n",
        "\n",
        "# Using TwitterSearchScraper to scrape data and append tweets to list\n",
        "# for i,tweet in enumerate(sntwitter.TwitterSearchScraper('PeacockTV since:2022-02-10 until:2022-02-13').get_items()):\n",
        "for i,tweet in enumerate(sntwitter.TwitterSearchScraper(search_scraper).get_items()):\n",
        "    # if i>10:\n",
        "        # break\n",
        "    # tweets_list2.append([tweet.date, tweet.id, tweet.content, tweet.user.username])\n",
        "    tweets_list2.append([tweet.date, tweet.id, tweet.content, keyword])\n",
        "    \n"
      ],
      "metadata": {
        "id": "bxKWU6iTPiGL"
      },
      "execution_count": 9,
      "outputs": []
    },
    {
      "cell_type": "code",
      "source": [
        "# Creating a dataframe from the tweets list above\n",
        "tweets_df2 = pd.DataFrame(tweets_list2, columns=['datetime', 'id', 'tweet','keyword'])\n",
        "tweets_df2"
      ],
      "metadata": {
        "id": "vjca42ISP6PE"
      },
      "execution_count": 10,
      "outputs": []
    },
    {
      "cell_type": "code",
      "metadata": {
        "id": "UOdEqbPdSmCD"
      },
      "source": [
        "# filename = input('Save File Name: ')\n",
        "# filename = filename+'.csv'\n",
        "tweet_date = str(max(tweets_df2.datetime).date())\n",
        "filename = 'tweets_{}.csv'.format(tweet_date)"
      ],
      "execution_count": null,
      "outputs": []
    },
    {
      "cell_type": "code",
      "metadata": {
        "id": "l2PLtpPaSmCE"
      },
      "source": [
        "## Save files: If the data filename already exist, will concatinate to existing dataset. Otherwise, save in new file\n",
        "import os\n",
        "if os.path.exists(filename):\n",
        "  oldtweets = pd.read_csv(filename)\n",
        "  oldtweets = pd.concat([oldtweets, tweets_df2])\n",
        "  oldtweets.to_csv(filename, index = False)\n",
        "else:\n",
        "  tweets_df2.to_csv(filename, index = False)"
      ],
      "execution_count": null,
      "outputs": []
    }
  ]
}